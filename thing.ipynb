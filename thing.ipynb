{
 "cells": [
  {
   "cell_type": "code",
   "execution_count": 2,
   "id": "f1e369d0",
   "metadata": {},
   "outputs": [
    {
     "name": "stdout",
     "output_type": "stream",
     "text": [
      "Net New ARR (annualized MRR) has been added to DealerGroup_TAM_SAM_DUM_NUM_FORMATTED_MAY.xlsx\n"
     ]
    }
   ],
   "source": [
    "import pandas as pd\n",
    "\n",
    "# Load the formatted file and the May data\n",
    "formatted = pd.read_excel('DealerGroup_TAM_SAM_DUM_NUM_FORMATTED_MAY.xlsx')\n",
    "may_data = pd.read_excel('Dealer Group Rebate Summary.xlsx', sheet_name='May Contracted Data')\n",
    "\n",
    "# Calculate Net New ARR as sum of TOTAL_CMRR per group * 12\n",
    "arr_dict = may_data.groupby('PARENT_ACCOUNT')['TOTAL_CMRR'].sum().apply(lambda x: x * 12).to_dict()\n",
    "\n",
    "# Insert Net New ARR into the formatted DataFrame\n",
    "if '~ Net New ARR ~' in formatted.columns:\n",
    "    formatted['~ Net New ARR ~'] = formatted['Group Name | Website'].map(arr_dict).fillna(0)\n",
    "else:\n",
    "    formatted.insert(\n",
    "        formatted.columns.get_loc('SAM PEN') + 1,\n",
    "        '~ Net New ARR ~',\n",
    "        formatted['Group Name | Website'].map(arr_dict).fillna(0)\n",
    "    )\n",
    "\n",
    "# Save the updated file\n",
    "formatted.to_excel('DealerGroup_TAM_SAM_DUM_NUM_FORMATTED_MAY.xlsx', index=False)\n",
    "print(\"Net New ARR (annualized MRR) has been added to DealerGroup_TAM_SAM_DUM_NUM_FORMATTED_MAY.xlsx\")"
   ]
  },
  {
   "cell_type": "code",
   "execution_count": 3,
   "id": "a20d538f",
   "metadata": {},
   "outputs": [
    {
     "ename": "NameError",
     "evalue": "name 'st' is not defined",
     "output_type": "error",
     "traceback": [
      "\u001b[31m---------------------------------------------------------------------------\u001b[39m",
      "\u001b[31mNameError\u001b[39m                                 Traceback (most recent call last)",
      "\u001b[36mCell\u001b[39m\u001b[36m \u001b[39m\u001b[32mIn[3]\u001b[39m\u001b[32m, line 1\u001b[39m\n\u001b[32m----> \u001b[39m\u001b[32m1\u001b[39m \u001b[43mst\u001b[49m.write(\u001b[33m\"\u001b[39m\u001b[33mColumns in your file:\u001b[39m\u001b[33m\"\u001b[39m, \u001b[38;5;28mlist\u001b[39m(df.columns))\n",
      "\u001b[31mNameError\u001b[39m: name 'st' is not defined"
     ]
    }
   ],
   "source": [
    "st.write(\"Columns in your file:\", list(df.columns))"
   ]
  },
  {
   "cell_type": "code",
   "execution_count": null,
   "id": "781e09b0",
   "metadata": {},
   "outputs": [],
   "source": []
  }
 ],
 "metadata": {
  "kernelspec": {
   "display_name": "Python 3",
   "language": "python",
   "name": "python3"
  },
  "language_info": {
   "codemirror_mode": {
    "name": "ipython",
    "version": 3
   },
   "file_extension": ".py",
   "mimetype": "text/x-python",
   "name": "python",
   "nbconvert_exporter": "python",
   "pygments_lexer": "ipython3",
   "version": "3.13.3"
  }
 },
 "nbformat": 4,
 "nbformat_minor": 5
}
